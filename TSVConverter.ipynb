{
  "nbformat": 4,
  "nbformat_minor": 0,
  "metadata": {
    "colab": {
      "provenance": [],
      "authorship_tag": "ABX9TyP+pSfDQ11/lSTjyFnPFetE",
      "include_colab_link": true
    },
    "kernelspec": {
      "name": "python3",
      "display_name": "Python 3"
    },
    "language_info": {
      "name": "python"
    }
  },
  "cells": [
    {
      "cell_type": "markdown",
      "metadata": {
        "id": "view-in-github",
        "colab_type": "text"
      },
      "source": [
        "<a href=\"https://colab.research.google.com/github/GuangyiLiu123/TSVConverter/blob/main/TSVConverter.ipynb\" target=\"_parent\"><img src=\"https://colab.research.google.com/assets/colab-badge.svg\" alt=\"Open In Colab\"/></a>"
      ]
    },
    {
      "cell_type": "code",
      "execution_count": 9,
      "metadata": {
        "id": "FcO0sCXEoF1k"
      },
      "outputs": [],
      "source": [
        "# Simple Way to Read TSV Files in Python using pandas\n",
        "# importing pandas library\n",
        "import pandas as pd\n",
        "\n",
        "# Passing the TSV file to\n",
        "# read_csv() function\n",
        "# with tab separator\n",
        "# This function will\n",
        "# read data from file\n",
        "data_df = pd.read_csv('pubchem1_sample.tsv', sep='\\t')\n",
        "dataTypes = [\"cid\", \"iupac\", \"xlogp3\", \"mass\", \"formula\", \"molecule_weight\", \"polar\", \"mono_weight\",\"smi\",\"casid\", \"synonyms\" ]\n",
        "\n",
        "with open('thing.txt', 'a') as f:\n",
        "  for i in range(100):\n",
        "    for j in range(11):\n",
        "      if(str(data_df.iloc[i,j])!=\"nan\"):\n",
        "        f.write(dataTypes[j]+\":\"+str(data_df.iloc[i,j])+\" \")\n",
        "      else:\n",
        "        f.write(dataTypes[j]+\":None \")\n",
        "    f.write(\"\\n\")\n"
      ]
    }
  ]
}